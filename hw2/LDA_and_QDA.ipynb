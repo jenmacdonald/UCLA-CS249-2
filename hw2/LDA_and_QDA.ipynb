{
 "cells": [
  {
   "cell_type": "markdown",
   "metadata": {},
   "source": [
    "# HW2 Problem #2:  LDA and QDA\n",
    "## Due Sunday April 30, at 11:55pm"
   ]
  },
  {
   "cell_type": "markdown",
   "metadata": {},
   "source": [
    "# Problem:  given a tabular dataset of feature values $X$ and classes $\\boldsymbol{y}$, derive both LDA and QDA models, and determine how accurate they are.\n",
    "More specifically, develop a program that reads in a numeric table with X and y from stdin, determines the normal distribution parameters for X, and derive the LDA and QDA models described in Chapter 4.4 of the ISL text (an introduction), and Chapter 4.3 of the ESL text (more rigorous treatment).\n",
    "The columns of $X$ should all be numeric.  The values in the last column, $\\boldsymbol{y}$, can be either symbolic or numeric.\n",
    "For example, with the <tt>iris</tt> dataset, the last column is symbolic.\n",
    "Your program should print the <i>confusion matrix</i> for LDA, and also print the confusion matrix for QDA.\n",
    "If there are $k$ different classes, the confusion matrix is a $k \\times k$ table whose $i,j$-th entry is the number of times that an input row $\\boldsymbol{x}$ was classified (by LDA or QDA) as being in class $i$, when in fact its $y$ value is $j$.\n",
    "Your program should print the confusion matrices both for LDA and for QDA."
   ]
  },
  {
   "cell_type": "markdown",
   "metadata": {},
   "source": [
    "## lda and qda\n",
    "Your program can use the \"lda\" and \"qda\" functions in the MASS library in order to classify data.\n",
    "To use lda and qda, you can install the MASS package in R"
   ]
  },
  {
   "cell_type": "code",
   "execution_count": null,
   "metadata": {
    "collapsed": true
   },
   "outputs": [],
   "source": [
    "# load the MASS package, which includes simple implementations of LDA and QDA\n",
    "\n",
    "not.installed <- function(pkg) !is.element(pkg, installed.packages()[,1])\n",
    "\n",
    "if (not.installed(\"MASS\"))  install.packages(\"MASS\")  # we need the MASS package\n",
    "\n",
    "library(MASS)  #  load the MASS package"
   ]
  },
  {
   "cell_type": "code",
   "execution_count": null,
   "metadata": {
    "collapsed": true
   },
   "outputs": [],
   "source": [
    "#  ?lda      #  help for the LDA classifier\n",
    "#  ?qda      #  help for the QDA classifier"
   ]
  },
  {
   "cell_type": "markdown",
   "metadata": {},
   "source": [
    "## Use predict to turn a model into a function\n",
    "If $M$ is a model, and $X$ is a (possibly new) set of $X$ values, then  <b>predict(M, X)</b> yields the vector of $\\boldsymbol{y}$ values predicted by the model for the input matrix $X$.\n",
    "If $M$ is a classification model, then <b>predict(M, X)</b> yields the classifications for feature vectors in the rows of $X$."
   ]
  },
  {
   "cell_type": "code",
   "execution_count": null,
   "metadata": {
    "collapsed": true
   },
   "outputs": [],
   "source": [
    "classifier = function(Model,X)  {\n",
    "   predict(Model, as.data.frame(X))$class\n",
    "}"
   ]
  },
  {
   "cell_type": "markdown",
   "metadata": {},
   "source": [
    "## Print the confusion matrix"
   ]
  },
  {
   "cell_type": "code",
   "execution_count": null,
   "metadata": {
    "collapsed": true
   },
   "outputs": [],
   "source": [
    "print_matrix = function(Matrix) {\n",
    "    for (i in 1:nrow(Matrix)) {\n",
    "       cat( Matrix[i,], \"\\n\" )  # print each row as a sequence\n",
    "    }\n",
    "}"
   ]
  },
  {
   "cell_type": "markdown",
   "metadata": {},
   "source": [
    "## Print the confusion matrices for both LDA and for QDA"
   ]
  },
  {
   "cell_type": "code",
   "execution_count": null,
   "metadata": {
    "collapsed": false
   },
   "outputs": [],
   "source": [
    "LDA_and_QDA = function(Table) {\n",
    "        \n",
    "    X = data.matrix( Table[, 1:(ncol(Table)-1) ])\n",
    "    classifications = Table[, ncol(Table) ]\n",
    "\n",
    "    y = unclass(classifications)  # convert the class values into numeric indices\n",
    "\n",
    "    n = nrow(X)\n",
    "    p = ncol(X)\n",
    "    \n",
    "    # ... construct an LDA representation of X\n",
    "    LDA.model <- lda(y ~ X)\n",
    "    \n",
    "    # Compute the LDA predictions (\"classifications\") for each input row.\n",
    "    LDA.classifications = classifier(LDA.model, X)\n",
    "\n",
    "    # ... determine for which rows in X the LDA classification differs from y\n",
    "    LDA.disagreements = (1:nrow(X))[ LDA.classifications != y ]\n",
    "   \n",
    "    LDA.confusion.matrix = table( LDA.classifications, y )\n",
    "    \n",
    "    # ... print the confusion matrix for LDA\n",
    "    print_matrix( LDA.confusion.matrix )\n",
    "    \n",
    "    # ... construct a QDA representation of X\n",
    "    QDA.model <- qda(y ~ X)\n",
    "\n",
    "    # Compute the LDA predictions (\"classifications\") for each input row.\n",
    "    QDA.classifications = classifier(QDA.model, X)\n",
    "    \n",
    "    # ... determine for which rows in X the QDA classification differs from y\n",
    "    QDA.disagreements = (1:nrow(X))[ QDA.classifications != y ]\n",
    "\n",
    "    QDA.confusion.matrix = table( QDA.classifications, y )\n",
    "    \n",
    "    # ... print the confusion matrix for QDA\n",
    "    print_matrix( QDA.confusion.matrix )\n",
    "}\n",
    "\n",
    "Table = data.matrix(read.csv( file(\"stdin\"), header=TRUE ))\n",
    "LDA_and_QDA(Table)"
   ]
  },
  {
   "cell_type": "code",
   "execution_count": null,
   "metadata": {
    "collapsed": true
   },
   "outputs": [],
   "source": []
  }
 ],
 "metadata": {
  "kernelspec": {
   "display_name": "R",
   "language": "R",
   "name": "ir"
  },
  "language_info": {
   "codemirror_mode": "r",
   "file_extension": ".r",
   "mimetype": "text/x-r-source",
   "name": "R",
   "pygments_lexer": "r",
   "version": "3.3.2"
  }
 },
 "nbformat": 4,
 "nbformat_minor": 2
}
