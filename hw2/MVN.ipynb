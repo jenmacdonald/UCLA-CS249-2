{
 "cells": [
  {
   "cell_type": "markdown",
   "metadata": {},
   "source": [
    "# Jennifer MacDonald, 604501712\n",
    "# CS249--Spring 2017--D.S. Parker © 2017\n",
    "# 04/30/17"
   ]
  },
  {
   "cell_type": "markdown",
   "metadata": {},
   "source": [
    "# HW2 Problem #1: Multivariate Normal Distributions\n",
    "## Due Sunday April 30, at 11:55pm"
   ]
  },
  {
   "cell_type": "markdown",
   "metadata": {},
   "source": [
    "## Specification of the Problem:\n",
    "You are given a tabular dataset containing feature values $X$ and classes $\\boldsymbol{y}$,\n",
    "where the $y$ values are integers between 1 and $k$ (so $k$ is the number of classes).\n",
    "(1) Derive the Gaussian/Multivariate Normal Distribution parameters for each class (the centroid/mean vector, and the covariance matrix).\n",
    "(2) For each row $\\boldsymbol{x}_i$ in the $X$ matrix,\n",
    "compute its Gaussian distance to each of the $k$ MVNs\n",
    "(using the Gaussian pdf / likelihood function).\n",
    "If $j_{min}$ is this closest class, and is different from $y_i$, print $i$, $j_{min}$, and $y_i$.\n",
    "More specifically, develop a program that reads in a single numeric table from stdin.\n",
    "The last column is $\\boldsymbol{y}$, and the columns before this define a matrix $X$.\n",
    "Your program should identify rows in the dataset that are \"misclassified\" by $\\boldsymbol{y}$,\n",
    "and print out information about these rows.\n"
   ]
  },
  {
   "cell_type": "markdown",
   "metadata": {},
   "source": [
    "## The Multivariate Normal / Gaussian pdf as a function\n",
    "$$\n",
    "g({\\boldsymbol{x}}, {\\boldsymbol{\\mu}}, \\Sigma) ~~=~~\n",
    "\\frac{1}{{(2\\,\\pi)}^{p/2}} ~\n",
    "\\frac{1}{\\sqrt{\\det\\,\\Sigma}} ~\n",
    "\\exp\\left({ \\, -\\frac{1}{2} \\;\n",
    "{\\,({\\boldsymbol{x}}-{\\boldsymbol{\\mu}})'}\n",
    "\\; \\Sigma^{-1} \\,\n",
    "{\\,({\\boldsymbol{x}}-{\\boldsymbol{\\mu}})}\n",
    " \\, }\\right) .\n",
    "$$"
   ]
  },
  {
   "cell_type": "code",
   "execution_count": null,
   "metadata": {
    "collapsed": true
   },
   "outputs": [],
   "source": [
    "g = function(xvec, meanvec, inverseCovMatrix, Sigma, p) {\n",
    "    detSigma = det(Sigma)\n",
    "    \n",
    "    return (1 / sqrt(2*pi)^(p/2) / sqrt(detSigma) *\n",
    "        exp( -1/2 * ( t(xvec-meanvec) %*% inverseCovMatrix %*% (xvec-meanvec) )[1,1] ))\n",
    "}"
   ]
  },
  {
   "cell_type": "markdown",
   "metadata": {},
   "source": [
    "## Find the closest Multivariate Normal Distribution for any table (dataset)"
   ]
  },
  {
   "cell_type": "code",
   "execution_count": null,
   "metadata": {
    "collapsed": true
   },
   "outputs": [],
   "source": [
    "MVN = function(Table) {\n",
    "    \n",
    "    X = data.matrix( Table[, 1:(ncol(Table)-1) ] )  #  data.matrix() forces data to be numeric\n",
    "    classifications = unclass(Table[, ncol(Table) ])\n",
    "\n",
    "    k = length(unique(classifications))  #  k is the number of different classifications\n",
    "\n",
    "    y = classifications  # the class values will always be integers from 1 to k here.\n",
    "\n",
    "    n = nrow(X)\n",
    "    p = ncol(X)\n",
    "\n",
    "    distance_value = matrix(0, nrow=n, ncol=k)  # matrix to record distance values\n",
    "    \n",
    "    # ... For each class j from 1 to k\n",
    "    for (j in 1:k) {\n",
    "        Data_for_j_th_class = subset(X, (y==j) )\n",
    "        \n",
    "        # ...    Derive the MVN distribution parameters for the j-th class.\n",
    "        mean_vector = matrix( apply(Data_for_j_th_class, 2, mean), nrow=p, ncol=1 )  # column vector\n",
    "        cov_matrix = cov(Data_for_j_th_class) # covariance matrix\n",
    "        \n",
    "        # ...    For each row x[i,] in the X matrix,\n",
    "        for (i in 1:n) {\n",
    "            # ...       distance_value[i,j] = the Gaussian distance_value of x[i,] to class j \n",
    "            # ...           (using a function like g(), defined above).\n",
    "            distance_value[i,j]  =  g( X[i,], mean_vector, solve(cov_matrix), cov_matrix, p )\n",
    "        }\n",
    "    }\n",
    "    \n",
    "    # ... For each row x[i,] in the X matrix,\n",
    "    for (i in 1:n) {\n",
    "        \n",
    "        # # ...    jmin is the number of this closest class\n",
    "        jmin = which(distance_value[i,] == max(distance_value[i,]))\n",
    "\n",
    "        # ...    If jmin is different from y[i],    \n",
    "        if(jmin != y[i] && length(jmin) == 1)\n",
    "            # ...    print i, jmin, and y[i].\n",
    "            cat(sprintf(\"%i %i %i\\n\", i, jmin, y[i]))\n",
    "    }\n",
    "}\n",
    "\n",
    "Table = data.matrix(read.csv( file(\"stdin\"), header=TRUE ))\n",
    "MVN(Table)"
   ]
  }
 ],
 "metadata": {
  "kernelspec": {
   "display_name": "R",
   "language": "R",
   "name": "ir"
  },
  "language_info": {
   "codemirror_mode": "r",
   "file_extension": ".r",
   "mimetype": "text/x-r-source",
   "name": "R",
   "pygments_lexer": "r",
   "version": "3.3.2"
  }
 },
 "nbformat": 4,
 "nbformat_minor": 2
}
