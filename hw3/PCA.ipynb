{
 "cells": [
  {
   "cell_type": "markdown",
   "metadata": {},
   "source": [
    "# HW3 Problem #1: PCA\n",
    "## Due Sunday May 7, at 11:55pm\n",
    "## However:  it is strongly recommended you master this material before the Midterm on Saturday May 6.  The Midterm will cover this material."
   ]
  },
  {
   "cell_type": "markdown",
   "metadata": {},
   "source": [
    "# Jennifer MacDonald 604501712"
   ]
  },
  {
   "cell_type": "markdown",
   "metadata": {},
   "source": [
    "## ISL"
   ]
  },
  {
   "cell_type": "code",
   "execution_count": null,
   "metadata": {
    "collapsed": true
   },
   "outputs": [],
   "source": [
    "not.installed <- function(pkg) !is.element(pkg, installed.packages()[,1])\n",
    "\n",
    "if (not.installed(\"ISLR\"))  install.packages(\"ISLR\")\n",
    "\n",
    "library(ISLR)  #  load the ISLR package"
   ]
  },
  {
   "cell_type": "markdown",
   "metadata": {},
   "source": [
    "## Principle Components, strongest loadings, and the observations that have greatest influence on the PCs"
   ]
  },
  {
   "cell_type": "code",
   "execution_count": null,
   "metadata": {
    "collapsed": true
   },
   "outputs": [],
   "source": [
    "PCA = function(Table) {\n",
    "    \n",
    "    lambda = svd( cor(Table) )$d\n",
    "    n = nrow(Table)\n",
    "    p = ncol(Table)\n",
    "\n",
    "    # sum of number of values where lambda is above 0.7\n",
    "    cat( sum((lambda >= 0.7), na.rm = TRUE), \"\\n\" ) \n",
    "    \n",
    "    # sum of number of values were lambda is above 1\n",
    "    cat( sum(lambda >= 1, na.rm = TRUE), \"\\n\" ) \n",
    "    PrincipalComponents = svd(cor(Table))$u  ### correlation matrix\n",
    "\n",
    "    SortedSquaredComponents = apply(PrincipalComponents^2, 2, function(x) sort(x, decreasing=TRUE))\n",
    "    \n",
    "    CumulativeSortedSquaredComponents = apply( SortedSquaredComponents, 2, cumsum)\n",
    "    \n",
    "    # array to hold each principle component's variable row number    \n",
    "    nStrongLoadings <- vector() \n",
    "    # for each column in CumulativeSortedSquaredComponents\n",
    "    for(j in 1:p)\n",
    "    {\n",
    "        # for each row in CumulativeSortedSquaredComponents\n",
    "        for(i in 1:p)\n",
    "        {\n",
    "            # check if value over 0.7\n",
    "            if(CumulativeSortedSquaredComponents[i,j] > 0.7)\n",
    "            {\n",
    "                nStrongLoadings[j] <- i # return the row number of the value\n",
    "                break # go to the next column\n",
    "            }\n",
    "        }\n",
    "    }\n",
    "    cat(nStrongLoadings, \"\\n\") \n",
    "    \n",
    "    U = PrincipalComponents\n",
    "    Z = scale(Table, center=TRUE, scale=FALSE) %*% U\n",
    "        \n",
    "    # the correlation matrix\n",
    "    S = rep(1, n) %*% t(lambda)\n",
    "    \n",
    "    # emphasize the size of each row    \n",
    "    a = apply(Z^2, 1, sum )\n",
    "    i = which( a == max(a) )\n",
    "    cat(i, \"\\n\")\n",
    "    \n",
    "    # emphasize influence on small principal components\n",
    "    b = apply((Z^2)/S, 1, sum)\n",
    "    i = which( b == max(b) )\n",
    "    cat(i, \"\\n\")\n",
    "   \n",
    "    # emphasize influence on large principal components    \n",
    "    c = apply(S*(Z^2), 1, sum)\n",
    "    i = which( c == max(c) )\n",
    "    cat(i, \"\\n\")      \n",
    "}\n",
    "                                    \n",
    "Table = data.matrix(read.csv( file(\"stdin\"), header=TRUE ))\n",
    "PCA(Table)"
   ]
  }
 ],
 "metadata": {
  "kernelspec": {
   "display_name": "R",
   "language": "R",
   "name": "ir"
  },
  "language_info": {
   "codemirror_mode": "r",
   "file_extension": ".r",
   "mimetype": "text/x-r-source",
   "name": "R",
   "pygments_lexer": "r",
   "version": "3.3.2"
  }
 },
 "nbformat": 4,
 "nbformat_minor": 2
}
