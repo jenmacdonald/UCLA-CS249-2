{
 "cells": [
  {
   "cell_type": "markdown",
   "metadata": {},
   "source": [
    "# HW3 Problem #2: Linear Regression\n",
    "## Due Sunday May 7, at 11:55pm"
   ]
  },
  {
   "cell_type": "markdown",
   "metadata": {},
   "source": [
    "# Jennifer MacDonald 604501712"
   ]
  },
  {
   "cell_type": "markdown",
   "metadata": {},
   "source": [
    "## Load all libraries we need"
   ]
  },
  {
   "cell_type": "code",
   "execution_count": null,
   "metadata": {
    "collapsed": false
   },
   "outputs": [],
   "source": [
    "not.installed = function(package_name)  !is.element(package_name, installed.packages()[,1])\n",
    "\n",
    "if (not.installed(\"MASS\")) install.packages(\"MASS\")\n",
    "if (not.installed(\"ISLR\")) install.packages(\"ISLR\")\n",
    "\n",
    "library(MASS)\n",
    "library(ISLR)"
   ]
  },
  {
   "cell_type": "markdown",
   "metadata": {},
   "source": [
    "## Linear Regression and Ridge Regression, and the observations that have greatest influence on the Regression coefficients"
   ]
  },
  {
   "cell_type": "code",
   "execution_count": null,
   "metadata": {
    "collapsed": true
   },
   "outputs": [],
   "source": [
    "Linear_Regression = function(X, y) {\n",
    "\n",
    "    #  X is a nxp numeric matrix\n",
    "    #  y = is a nx1 numeric vector\n",
    "    \n",
    "    # transform X and y into matrices\n",
    "    X_ = as.matrix(X)\n",
    "    y_ = as.matrix(y)\n",
    "\n",
    "    Xt_X = t(X_) %*% X_\n",
    "    Xt_y = t(X_) %*% y_\n",
    "\n",
    "    minimum_lambda_value = 0\n",
    "    maximum_lambda_value = 100 ##  norm( Xt_X ) / 100000\n",
    "    number_of_lambda_values = 101\n",
    "\n",
    "    lambda_values = seq( minimum_lambda_value, maximum_lambda_value, length = number_of_lambda_values )\n",
    "\n",
    "    n = nrow(X_)\n",
    "    p = ncol(X_)\n",
    "\n",
    "    # keep track of all coefficient values -- for each value of lambda -- in a matrix:\n",
    "    coefficient_values_for_each_lambda = matrix(0, nrow=number_of_lambda_values, ncol=p)\n",
    "\n",
    "    colnames(coefficient_values_for_each_lambda) = colnames(X_)\n",
    "\n",
    "    I_p = diag(rep(1,p))  # pxp identity matrix  (rep(1,p) = a sequence with \"1\" repeated p times)\n",
    "\n",
    "    for (i in 1:number_of_lambda_values) {\n",
    "        w = solve(  (Xt_X  +  I_p * lambda_values[i]),  Xt_y )\n",
    "        coefficient_values_for_each_lambda[i,] = w\n",
    "    }\n",
    "    \n",
    "    # compute the range of coefficient values  (over all values of lambda considered)\n",
    "    max_coefficient_value = apply( coefficient_values_for_each_lambda, 2, max )\n",
    "    min_coefficient_value = apply( coefficient_values_for_each_lambda, 2, min )\n",
    "\n",
    "    coefficient_value_range = max_coefficient_value - min_coefficient_value\n",
    "    \n",
    "    # print the column number of the variable that has the largest range\n",
    "    cat(which.max(as.matrix((coefficient_value_range))), \"\\n\")\n",
    "\n",
    "    X_minus_Xbar = scale(X_, center=TRUE, scale=FALSE)\n",
    "    C_inverse = solve( cov(X_) )\n",
    "\n",
    "    Leverage = diag( (X_minus_Xbar) %*% C_inverse %*% t(X_minus_Xbar) )  ## very wasteful -- we just want the diagonal\n",
    "\n",
    "    i = which( Leverage == max(Leverage) )\n",
    "\n",
    "    cat(i, \"\\n\")\n",
    "    \n",
    "    # calculate w, the regression coefficients\n",
    "    w =  solve(t(X_) %*% X_) %*% t(X_) %*% y_\n",
    "    \n",
    "    # set the max value and the row number of the max value to the smallest possible values\n",
    "    # when compared to a row's value, it will update the max value and row if the current value is larger\n",
    "    max_val = 0\n",
    "    max_val_i = 1\n",
    "    \n",
    "    # loop that calculates \"i\" values for Cook Distance\n",
    "    for (i in 1:nrow(X_)){\n",
    "        # calculate wi, the regression coefficients for X_i and y_i\n",
    "        w_i = solve(t(X_[-i,]) %*% X_[-i,]) %*% t(X_[-i,]) %*% y_[-i,]\n",
    "        \n",
    "        # the predicted y-values minus the y values predicted from w_i \n",
    "        y_hat_minus_yi_hat = X_ %*% (w - w_i)\n",
    "        \n",
    "        # the current Cook Distance for \"i\"\n",
    "        cur_val = t(y_hat_minus_yi_hat) %*% y_hat_minus_yi_hat\n",
    "        \n",
    "        # update current value if larger than the stored max value\n",
    "        # also update the max value's row number\n",
    "        if(cur_val > max_val){\n",
    "            max_val = cur_val\n",
    "            max_val_i = i\n",
    "        }       \n",
    "    }\n",
    "    \n",
    "    # print row of value that maximize Cook Distance\n",
    "    cat(max_val_i)\n",
    "    \n",
    "}"
   ]
  }
 ],
 "metadata": {
  "kernelspec": {
   "display_name": "R",
   "language": "R",
   "name": "ir"
  },
  "language_info": {
   "codemirror_mode": "r",
   "file_extension": ".r",
   "mimetype": "text/x-r-source",
   "name": "R",
   "pygments_lexer": "r",
   "version": "3.3.2"
  }
 },
 "nbformat": 4,
 "nbformat_minor": 2
}
